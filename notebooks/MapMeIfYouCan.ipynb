{
 "cells": [
  {
   "cell_type": "markdown",
   "metadata": {},
   "source": [
    "# Map Me If You Can\n",
    "- Tested with Jupyter version > 5.0 && < 6.0\n",
    "- Tutorials see [ArcGIS API for Python](https://developers.arcgis.com/python/guide/)"
   ]
  },
  {
   "cell_type": "code",
   "execution_count": 1,
   "metadata": {},
   "outputs": [
    {
     "name": "stdout",
     "output_type": "stream",
     "text": [
      "Requirement already satisfied: arcgis in c:\\users\\developer\\appdata\\roaming\\python\\python36\\site-packages (1.8.0)\n",
      "Requirement already satisfied: pandas>=0.25 in c:\\users\\developer\\appdata\\roaming\\python\\python36\\site-packages (from arcgis) (1.0.1)\n",
      "Requirement already satisfied: numpy>=1.16.2 in c:\\users\\developer\\appdata\\roaming\\python\\python36\\site-packages (from arcgis) (1.18.1)\n",
      "Requirement already satisfied: six in c:\\bin\\anaconda3\\lib\\site-packages (from arcgis) (1.11.0)\n",
      "Requirement already satisfied: winkerberos; platform_system == \"Windows\" in c:\\users\\developer\\appdata\\roaming\\python\\python36\\site-packages (from arcgis) (0.7.0)\n",
      "Requirement already satisfied: ipywidgets>=7 in c:\\bin\\anaconda3\\lib\\site-packages (from arcgis) (7.1.1)\n",
      "Requirement already satisfied: jupyterlab in c:\\bin\\anaconda3\\lib\\site-packages (from arcgis) (0.34.3)\n",
      "Requirement already satisfied: matplotlib in c:\\bin\\anaconda3\\lib\\site-packages (from arcgis) (2.2.2)\n",
      "Requirement already satisfied: requests-toolbelt in c:\\users\\developer\\appdata\\roaming\\python\\python36\\site-packages (from arcgis) (0.9.1)\n",
      "Requirement already satisfied: pyshp>=2 in c:\\users\\developer\\appdata\\roaming\\python\\python36\\site-packages (from arcgis) (2.1.0)\n",
      "Requirement already satisfied: requests-kerberos; platform_system == \"Windows\" in c:\\users\\developer\\appdata\\roaming\\python\\python36\\site-packages (from arcgis) (0.12.0)\n",
      "Requirement already satisfied: widgetsnbextension>=3 in c:\\bin\\anaconda3\\lib\\site-packages (from arcgis) (3.1.0)\n",
      "Requirement already satisfied: keyring>=19 in c:\\users\\developer\\appdata\\roaming\\python\\python36\\site-packages (from arcgis) (21.1.1)\n",
      "Requirement already satisfied: requests in c:\\users\\developer\\appdata\\roaming\\python\\python36\\site-packages (from arcgis) (2.22.0)\n",
      "Requirement already satisfied: requests-ntlm in c:\\users\\developer\\appdata\\roaming\\python\\python36\\site-packages (from arcgis) (1.1.0)\n",
      "Requirement already satisfied: requests-oauthlib in c:\\bin\\anaconda3\\lib\\site-packages (from arcgis) (1.2.0)\n",
      "Requirement already satisfied: lerc in c:\\users\\developer\\appdata\\roaming\\python\\python36\\site-packages (from arcgis) (0.1.0)\n",
      "Requirement already satisfied: pytz>=2017.2 in c:\\bin\\anaconda3\\lib\\site-packages (from pandas>=0.25->arcgis) (2017.3)\n",
      "Requirement already satisfied: python-dateutil>=2.6.1 in c:\\bin\\anaconda3\\lib\\site-packages (from pandas>=0.25->arcgis) (2.6.1)\n",
      "Requirement already satisfied: ipykernel>=4.5.1 in c:\\users\\developer\\appdata\\roaming\\python\\python36\\site-packages (from ipywidgets>=7->arcgis) (5.1.4)\n",
      "Requirement already satisfied: traitlets>=4.3.1 in c:\\bin\\anaconda3\\lib\\site-packages (from ipywidgets>=7->arcgis) (4.3.2)\n",
      "Requirement already satisfied: nbformat>=4.2.0 in c:\\bin\\anaconda3\\lib\\site-packages (from ipywidgets>=7->arcgis) (4.4.0)\n",
      "Requirement already satisfied: ipython>=4.0.0 in c:\\bin\\anaconda3\\lib\\site-packages (from ipywidgets>=7->arcgis) (6.2.1)\n",
      "Requirement already satisfied: notebook>=4.3.1 in c:\\bin\\anaconda3\\lib\\site-packages (from jupyterlab->arcgis) (5.7.8)\n",
      "Requirement already satisfied: jupyterlab_launcher<0.14.0,>=0.13.1 in c:\\bin\\anaconda3\\lib\\site-packages (from jupyterlab->arcgis) (0.13.1)\n",
      "Requirement already satisfied: cycler>=0.10 in c:\\bin\\anaconda3\\lib\\site-packages (from matplotlib->arcgis) (0.10.0)\n",
      "Requirement already satisfied: pyparsing!=2.0.4,!=2.1.2,!=2.1.6,>=2.0.1 in c:\\bin\\anaconda3\\lib\\site-packages (from matplotlib->arcgis) (2.2.0)\n",
      "Requirement already satisfied: kiwisolver>=1.0.1 in c:\\bin\\anaconda3\\lib\\site-packages (from matplotlib->arcgis) (1.0.1)\n",
      "Requirement already satisfied: cryptography>=1.3; python_version != \"3.3\" in c:\\bin\\anaconda3\\lib\\site-packages (from requests-kerberos; platform_system == \"Windows\"->arcgis) (2.1.4)\n",
      "Requirement already satisfied: importlib-metadata; python_version < \"3.8\" in c:\\users\\developer\\appdata\\roaming\\python\\python36\\site-packages (from keyring>=19->arcgis) (1.5.0)\n",
      "Requirement already satisfied: pywin32-ctypes!=0.1.0,!=0.1.1; sys_platform == \"win32\" in c:\\users\\developer\\appdata\\roaming\\python\\python36\\site-packages (from keyring>=19->arcgis) (0.2.0)\n",
      "Requirement already satisfied: urllib3!=1.25.0,!=1.25.1,<1.26,>=1.21.1 in c:\\bin\\anaconda3\\lib\\site-packages (from requests->arcgis) (1.22)\n",
      "Requirement already satisfied: chardet<3.1.0,>=3.0.2 in c:\\bin\\anaconda3\\lib\\site-packages (from requests->arcgis) (3.0.4)\n",
      "Requirement already satisfied: certifi>=2017.4.17 in c:\\bin\\anaconda3\\lib\\site-packages (from requests->arcgis) (2019.11.28)\n",
      "Requirement already satisfied: idna<2.9,>=2.5 in c:\\bin\\anaconda3\\lib\\site-packages (from requests->arcgis) (2.6)\n",
      "Requirement already satisfied: ntlm-auth>=1.0.2 in c:\\users\\developer\\appdata\\roaming\\python\\python36\\site-packages (from requests-ntlm->arcgis) (1.4.0)\n",
      "Requirement already satisfied: oauthlib>=3.0.0 in c:\\bin\\anaconda3\\lib\\site-packages (from requests-oauthlib->arcgis) (3.0.1)\n",
      "Requirement already satisfied: tornado>=4.2 in c:\\bin\\anaconda3\\lib\\site-packages (from ipykernel>=4.5.1->ipywidgets>=7->arcgis) (5.1.1)\n",
      "Requirement already satisfied: jupyter-client in c:\\bin\\anaconda3\\lib\\site-packages (from ipykernel>=4.5.1->ipywidgets>=7->arcgis) (5.3.3)\n",
      "Requirement already satisfied: ipython_genutils in c:\\bin\\anaconda3\\lib\\site-packages (from traitlets>=4.3.1->ipywidgets>=7->arcgis) (0.2.0)\n",
      "Requirement already satisfied: decorator in c:\\bin\\anaconda3\\lib\\site-packages (from traitlets>=4.3.1->ipywidgets>=7->arcgis) (4.2.1)\n",
      "Requirement already satisfied: jsonschema!=2.5.0,>=2.4 in c:\\bin\\anaconda3\\lib\\site-packages (from nbformat>=4.2.0->ipywidgets>=7->arcgis) (2.6.0)\n",
      "Requirement already satisfied: jupyter_core in c:\\bin\\anaconda3\\lib\\site-packages (from nbformat>=4.2.0->ipywidgets>=7->arcgis) (4.4.0)\n",
      "Requirement already satisfied: setuptools>=18.5 in c:\\bin\\anaconda3\\lib\\site-packages (from ipython>=4.0.0->ipywidgets>=7->arcgis) (38.4.0)\n",
      "Requirement already satisfied: jedi>=0.10 in c:\\bin\\anaconda3\\lib\\site-packages (from ipython>=4.0.0->ipywidgets>=7->arcgis) (0.11.1)\n",
      "Requirement already satisfied: pickleshare in c:\\bin\\anaconda3\\lib\\site-packages (from ipython>=4.0.0->ipywidgets>=7->arcgis) (0.7.4)\n",
      "Requirement already satisfied: simplegeneric>0.8 in c:\\bin\\anaconda3\\lib\\site-packages (from ipython>=4.0.0->ipywidgets>=7->arcgis) (0.8.1)\n",
      "Requirement already satisfied: prompt_toolkit<2.0.0,>=1.0.4 in c:\\bin\\anaconda3\\lib\\site-packages (from ipython>=4.0.0->ipywidgets>=7->arcgis) (1.0.15)\n",
      "Requirement already satisfied: pygments in c:\\bin\\anaconda3\\lib\\site-packages (from ipython>=4.0.0->ipywidgets>=7->arcgis) (2.2.0)\n",
      "Requirement already satisfied: colorama in c:\\bin\\anaconda3\\lib\\site-packages (from ipython>=4.0.0->ipywidgets>=7->arcgis) (0.3.9)\n",
      "Requirement already satisfied: prometheus-client in c:\\bin\\anaconda3\\lib\\site-packages (from notebook>=4.3.1->jupyterlab->arcgis) (0.3.1)\n",
      "Requirement already satisfied: nbconvert in c:\\bin\\anaconda3\\lib\\site-packages (from notebook>=4.3.1->jupyterlab->arcgis) (5.3.1)\n",
      "Requirement already satisfied: terminado>=0.8.1 in c:\\bin\\anaconda3\\lib\\site-packages (from notebook>=4.3.1->jupyterlab->arcgis) (0.8.1)\n",
      "Requirement already satisfied: jinja2 in c:\\bin\\anaconda3\\lib\\site-packages (from notebook>=4.3.1->jupyterlab->arcgis) (2.10)\n",
      "Requirement already satisfied: Send2Trash in c:\\bin\\anaconda3\\lib\\site-packages (from notebook>=4.3.1->jupyterlab->arcgis) (1.4.2)\n",
      "Requirement already satisfied: pyzmq>=17 in c:\\bin\\anaconda3\\lib\\site-packages (from notebook>=4.3.1->jupyterlab->arcgis) (17.1.2)\n",
      "Requirement already satisfied: asn1crypto>=0.21.0 in c:\\bin\\anaconda3\\lib\\site-packages (from cryptography>=1.3; python_version != \"3.3\"->requests-kerberos; platform_system == \"Windows\"->arcgis) (0.24.0)\n",
      "Requirement already satisfied: cffi>=1.7 in c:\\bin\\anaconda3\\lib\\site-packages (from cryptography>=1.3; python_version != \"3.3\"->requests-kerberos; platform_system == \"Windows\"->arcgis) (1.11.4)\n",
      "Requirement already satisfied: zipp>=0.5 in c:\\users\\developer\\appdata\\roaming\\python\\python36\\site-packages (from importlib-metadata; python_version < \"3.8\"->keyring>=19->arcgis) (3.1.0)\n",
      "Requirement already satisfied: pywin32>=1.0; sys_platform == \"win32\" in c:\\bin\\anaconda3\\lib\\site-packages (from jupyter-client->ipykernel>=4.5.1->ipywidgets>=7->arcgis) (222)\n",
      "Requirement already satisfied: parso==0.1.* in c:\\bin\\anaconda3\\lib\\site-packages (from jedi>=0.10->ipython>=4.0.0->ipywidgets>=7->arcgis) (0.1.1)\n",
      "Requirement already satisfied: wcwidth in c:\\bin\\anaconda3\\lib\\site-packages (from prompt_toolkit<2.0.0,>=1.0.4->ipython>=4.0.0->ipywidgets>=7->arcgis) (0.1.7)\n",
      "Requirement already satisfied: mistune>=0.7.4 in c:\\bin\\anaconda3\\lib\\site-packages (from nbconvert->notebook>=4.3.1->jupyterlab->arcgis) (0.8.3)\n",
      "Requirement already satisfied: entrypoints>=0.2.2 in c:\\bin\\anaconda3\\lib\\site-packages (from nbconvert->notebook>=4.3.1->jupyterlab->arcgis) (0.2.3)\n",
      "Requirement already satisfied: bleach in c:\\bin\\anaconda3\\lib\\site-packages (from nbconvert->notebook>=4.3.1->jupyterlab->arcgis) (2.1.2)\n",
      "Requirement already satisfied: pandocfilters>=1.4.1 in c:\\bin\\anaconda3\\lib\\site-packages (from nbconvert->notebook>=4.3.1->jupyterlab->arcgis) (1.4.2)\n",
      "Requirement already satisfied: testpath in c:\\bin\\anaconda3\\lib\\site-packages (from nbconvert->notebook>=4.3.1->jupyterlab->arcgis) (0.3.1)\n",
      "Requirement already satisfied: MarkupSafe>=0.23 in c:\\bin\\anaconda3\\lib\\site-packages (from jinja2->notebook>=4.3.1->jupyterlab->arcgis) (1.0)\n",
      "Requirement already satisfied: pycparser in c:\\bin\\anaconda3\\lib\\site-packages (from cffi>=1.7->cryptography>=1.3; python_version != \"3.3\"->requests-kerberos; platform_system == \"Windows\"->arcgis) (2.18)\n",
      "Requirement already satisfied: html5lib!=1.0b1,!=1.0b2,!=1.0b3,!=1.0b4,!=1.0b5,!=1.0b6,!=1.0b7,!=1.0b8,>=0.99999999pre in c:\\bin\\anaconda3\\lib\\site-packages (from bleach->nbconvert->notebook>=4.3.1->jupyterlab->arcgis) (1.0.1)\n",
      "Requirement already satisfied: webencodings in c:\\bin\\anaconda3\\lib\\site-packages (from html5lib!=1.0b1,!=1.0b2,!=1.0b3,!=1.0b4,!=1.0b5,!=1.0b6,!=1.0b7,!=1.0b8,>=0.99999999pre->bleach->nbconvert->notebook>=4.3.1->jupyterlab->arcgis) (0.5.1)\n"
     ]
    },
    {
     "name": "stderr",
     "output_type": "stream",
     "text": [
      "You are using pip version 18.1, however version 20.0.2 is available.\n",
      "You should consider upgrading via the 'python -m pip install --upgrade pip' command.\n"
     ]
    }
   ],
   "source": [
    "!pip install --user arcgis"
   ]
  },
  {
   "cell_type": "code",
   "execution_count": 76,
   "metadata": {},
   "outputs": [],
   "source": [
    "import arcgis\n",
    "from arcgis.gis import GIS\n",
    "from arcgis.features import GeoAccessor\n",
    "import pandas"
   ]
  },
  {
   "cell_type": "markdown",
   "metadata": {},
   "source": [
    "## Connect to ArcGIS Online"
   ]
  },
  {
   "cell_type": "code",
   "execution_count": 4,
   "metadata": {},
   "outputs": [],
   "source": [
    "geospatial = GIS()"
   ]
  },
  {
   "cell_type": "markdown",
   "metadata": {},
   "source": [
    "## Show me a map centered on Bonn"
   ]
  },
  {
   "cell_type": "code",
   "execution_count": 5,
   "metadata": {},
   "outputs": [
    {
     "data": {
      "application/vnd.jupyter.widget-view+json": {
       "model_id": "ebd1b17c54094795b85741d7dde103d8",
       "version_major": 2,
       "version_minor": 0
      },
      "text/html": [
       "<p>Failed to display Jupyter Widget of type <code>MapView</code>.</p>\n",
       "<p>\n",
       "  If you're reading this message in the Jupyter Notebook or JupyterLab Notebook, it may mean\n",
       "  that the widgets JavaScript is still loading. If this message persists, it\n",
       "  likely means that the widgets JavaScript library is either not installed or\n",
       "  not enabled. See the <a href=\"https://ipywidgets.readthedocs.io/en/stable/user_install.html\">Jupyter\n",
       "  Widgets Documentation</a> for setup instructions.\n",
       "</p>\n",
       "<p>\n",
       "  If you're reading this message in another frontend (for example, a static\n",
       "  rendering on GitHub or <a href=\"https://nbviewer.jupyter.org/\">NBViewer</a>),\n",
       "  it may mean that your frontend doesn't currently support widgets.\n",
       "</p>\n"
      ],
      "text/plain": [
       "MapView(layout=Layout(height='400px', width='100%'))"
      ]
     },
     "metadata": {},
     "output_type": "display_data"
    },
    {
     "data": {
      "text/html": [
       "<div class=\"map-static-img-preview-2b2ab6e8-6478-4a6b-9b2d-49424143f715\"><img src=\"\"></img></div>"
      ],
      "text/plain": [
       "<IPython.core.display.HTML object>"
      ]
     },
     "metadata": {},
     "output_type": "display_data"
    }
   ],
   "source": [
    "bonn_map = geospatial.map(\"Bonn\")\n",
    "bonn_map"
   ]
  },
  {
   "cell_type": "markdown",
   "metadata": {},
   "source": [
    "## Use the CORONAVIRUS tracker API\n",
    "- Only world countries or county level for the US"
   ]
  },
  {
   "cell_type": "code",
   "execution_count": 88,
   "metadata": {},
   "outputs": [],
   "source": [
    "import urllib.request\n",
    "\n",
    "def extract_from_json(data_frame, parent, child=None):\n",
    "    if None is child:\n",
    "        return data_frame.apply(lambda record: record[0][parent], axis=1)\n",
    "    else:\n",
    "        return data_frame.apply(lambda record: record[0][parent][child], axis=1)\n",
    "\n",
    "def tracker_locations_to_dataframe():\n",
    "    url = \"https://coronavirus-tracker-api.herokuapp.com/v2/locations\"\n",
    "    with urllib.request.urlopen(url) as stream:\n",
    "        locations_complex = pandas.read_json(stream)\n",
    "        locations = pandas.DataFrame()\n",
    "        locations[\"latitude\"] = extract_from_json(locations_complex, \"coordinates\", \"latitude\").astype(float)\n",
    "        locations[\"longitude\"] = extract_from_json(locations_complex, \"coordinates\", \"longitude\").astype(float)\n",
    "        locations[\"country\"] = extract_from_json(locations_complex, \"country\")\n",
    "        locations[\"country_code\"] = extract_from_json(locations_complex, \"country_code\")\n",
    "        locations[\"last_updated\"] = extract_from_json(locations_complex, \"last_updated\")\n",
    "        locations[\"last_updated\"] = locations.apply(lambda record: pandas.to_datetime(record[\"last_updated\"]), axis=1)\n",
    "        return locations\n",
    "    \n",
    "def tracker_locations_by_country_code(country_code):\n",
    "    locations = tracker_locations_to_dataframe()\n",
    "    return locations.loc[locations[\"country_code\"] == country_code]\n",
    "\n",
    "def tracker_locations_to_spatial():\n",
    "    locations = tracker_locations_to_dataframe()\n",
    "    return GeoAccessor.from_xy(locations, x_column=\"longitude\", y_column=\"latitude\", sr=4326)"
   ]
  },
  {
   "cell_type": "code",
   "execution_count": 89,
   "metadata": {},
   "outputs": [
    {
     "data": {
      "application/vnd.jupyter.widget-view+json": {
       "model_id": "48cb0774b0b34b51856ab4d234a30721",
       "version_major": 2,
       "version_minor": 0
      },
      "text/html": [
       "<p>Failed to display Jupyter Widget of type <code>MapView</code>.</p>\n",
       "<p>\n",
       "  If you're reading this message in the Jupyter Notebook or JupyterLab Notebook, it may mean\n",
       "  that the widgets JavaScript is still loading. If this message persists, it\n",
       "  likely means that the widgets JavaScript library is either not installed or\n",
       "  not enabled. See the <a href=\"https://ipywidgets.readthedocs.io/en/stable/user_install.html\">Jupyter\n",
       "  Widgets Documentation</a> for setup instructions.\n",
       "</p>\n",
       "<p>\n",
       "  If you're reading this message in another frontend (for example, a static\n",
       "  rendering on GitHub or <a href=\"https://nbviewer.jupyter.org/\">NBViewer</a>),\n",
       "  it may mean that your frontend doesn't currently support widgets.\n",
       "</p>\n"
      ],
      "text/plain": [
       "MapView(layout=Layout(height='400px', width='100%'))"
      ]
     },
     "metadata": {},
     "output_type": "display_data"
    },
    {
     "data": {
      "text/html": [
       "<div class=\"map-static-img-preview-7180e58d-9965-4be4-8224-016db4265ace\"><img src=\"\"></img></div>"
      ],
      "text/plain": [
       "<IPython.core.display.HTML object>"
      ]
     },
     "metadata": {},
     "output_type": "display_data"
    }
   ],
   "source": [
    "tracker_locations = tracker_locations_to_spatial()\n",
    "world_map = geospatial.map()\n",
    "tracker_locations.spatial.plot(map_widget=world_map)\n",
    "world_map"
   ]
  },
  {
   "cell_type": "code",
   "execution_count": null,
   "metadata": {},
   "outputs": [],
   "source": []
  },
  {
   "cell_type": "code",
   "execution_count": null,
   "metadata": {},
   "outputs": [],
   "source": []
  }
 ],
 "metadata": {
  "kernelspec": {
   "display_name": "Python 3",
   "language": "python",
   "name": "python3"
  },
  "language_info": {
   "codemirror_mode": {
    "name": "ipython",
    "version": 3
   },
   "file_extension": ".py",
   "mimetype": "text/x-python",
   "name": "python",
   "nbconvert_exporter": "python",
   "pygments_lexer": "ipython3",
   "version": "3.6.4"
  }
 },
 "nbformat": 4,
 "nbformat_minor": 2
}
